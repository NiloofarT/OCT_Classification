{
  "cells": [
    {
      "cell_type": "code",
      "execution_count": null,
      "metadata": {
        "id": "h5Oc6cHnZSN-"
      },
      "outputs": [],
      "source": [
        "import numpy as np\n",
        "import pandas as pd\n",
        "import matplotlib\n",
        "import matplotlib.pyplot as plt\n",
        "from matplotlib import cm\n",
        "from imblearn.datasets import make_imbalance"
      ]
    },
    {
      "cell_type": "code",
      "execution_count": null,
      "metadata": {
        "id": "jAm1whS-aJHU"
      },
      "outputs": [],
      "source": [
        "import warnings\n",
        "from sklearn.exceptions import DataConversionWarning\n",
        "warnings.filterwarnings('ignore')"
      ]
    },
    {
      "cell_type": "markdown",
      "metadata": {
        "id": "WiFX0KEBaROb"
      },
      "source": [
        "**Import dataset and perform data preparation**"
      ]
    },
    {
      "cell_type": "code",
      "execution_count": null,
      "metadata": {
        "colab": {
          "base_uri": "https://localhost:8080/"
        },
        "id": "Ex1OPRZlaRqI",
        "outputId": "0afaad99-1fcb-4547-ca14-da9060463a4f"
      },
      "outputs": [
        {
          "output_type": "stream",
          "name": "stdout",
          "text": [
            "train_images\n",
            "(97477, 28, 28)\n",
            "val_images\n",
            "(10832, 28, 28)\n",
            "test_images\n",
            "(1000, 28, 28)\n",
            "train_labels\n",
            "(97477, 1)\n",
            "val_labels\n",
            "(10832, 1)\n",
            "test_labels\n",
            "(1000, 1)\n"
          ]
        }
      ],
      "source": [
        "list_files = np.load('octmnist.npz')\n",
        "for name in list_files:\n",
        "  print(name)\n",
        "  print(np.shape(list_files[name]))"
      ]
    },
    {
      "cell_type": "code",
      "execution_count": null,
      "metadata": {
        "id": "W4Wh_3NHaUHH"
      },
      "outputs": [],
      "source": [
        "train_images = list_files['train_images']\n",
        "train_labels = list_files['train_labels']\n",
        "\n",
        "test_images = list_files['test_images']\n",
        "test_labels = list_files['test_labels']\n",
        "\n",
        "val_images = list_files['val_images']\n",
        "val_labels = list_files['val_labels']"
      ]
    },
    {
      "cell_type": "code",
      "source": [
        "x = np.concatenate((train_images, test_images, val_images), axis= 0)\n",
        "y = np.concatenate((train_labels, test_labels, val_labels), axis = 0)"
      ],
      "metadata": {
        "id": "iWqKQcrsutoD"
      },
      "execution_count": null,
      "outputs": []
    },
    {
      "cell_type": "code",
      "source": [
        "x_re = x.reshape(109309, -1)\n",
        "y_re = y.reshape(109309, -1)"
      ],
      "metadata": {
        "id": "sDlKIDAdxYxj"
      },
      "execution_count": null,
      "outputs": []
    },
    {
      "cell_type": "code",
      "source": [
        "x_df = pd.DataFrame(x_re)"
      ],
      "metadata": {
        "id": "Pq4CrkbBxupP"
      },
      "execution_count": null,
      "outputs": []
    },
    {
      "cell_type": "code",
      "source": [
        "y_df = pd.DataFrame(y_re, columns = ['Class'])\n",
        "print(y_df['Class'].value_counts())\n",
        "y_df['Class'].value_counts().plot(kind='bar', title = 'Data Distribution')"
      ],
      "metadata": {
        "colab": {
          "base_uri": "https://localhost:8080/",
          "height": 554
        },
        "id": "VcnKWZGnwDwf",
        "outputId": "3d2a414c-8947-4aa5-a292-f3daec51be20"
      },
      "execution_count": null,
      "outputs": [
        {
          "output_type": "stream",
          "name": "stdout",
          "text": [
            "3    51390\n",
            "0    37455\n",
            "1    11598\n",
            "2     8866\n",
            "Name: Class, dtype: int64\n"
          ]
        },
        {
          "output_type": "execute_result",
          "data": {
            "text/plain": [
              "<Axes: title={'center': 'Data Distribution'}>"
            ]
          },
          "metadata": {},
          "execution_count": 9
        },
        {
          "output_type": "display_data",
          "data": {
            "text/plain": [
              "<Figure size 640x480 with 1 Axes>"
            ],
            "image/png": "[encoded data removed]"
          },
          "metadata": {}
        }
      ]
    },
    {
      "cell_type": "code",
      "source": [
        "x_red, y_red = make_imbalance(x_df, y_df, sampling_strategy= {0: 8866, 1: 8866, 2: 8866, 3: 8866}, random_state=35)\n"
      ],
      "metadata": {
        "id": "q6e7kDrvvOYJ"
      },
      "execution_count": null,
      "outputs": []
    },
    {
      "cell_type": "code",
      "source": [
        "np.shape(x_red)"
      ],
      "metadata": {
        "colab": {
          "base_uri": "https://localhost:8080/"
        },
        "id": "tfFbX2ByyGVJ",
        "outputId": "7c0ae295-8705-48f8-e16c-50848a9e49d3"
      },
      "execution_count": null,
      "outputs": [
        {
          "output_type": "execute_result",
          "data": {
            "text/plain": [
              "(35464, 784)"
            ]
          },
          "metadata": {},
          "execution_count": 11
        }
      ]
    },
    {
      "cell_type": "code",
      "source": [
        "np.shape(y_red)"
      ],
      "metadata": {
        "colab": {
          "base_uri": "https://localhost:8080/"
        },
        "id": "9qF-ZJ1UyMsi",
        "outputId": "76c48a3e-e4dc-4897-e7e2-8beec618071f"
      },
      "execution_count": null,
      "outputs": [
        {
          "output_type": "execute_result",
          "data": {
            "text/plain": [
              "(35464, 1)"
            ]
          },
          "metadata": {},
          "execution_count": 12
        }
      ]
    },
    {
      "cell_type": "code",
      "source": [
        "y_red['Class'].value_counts().plot(kind='bar', title = 'Data Distribution')"
      ],
      "metadata": {
        "colab": {
          "base_uri": "https://localhost:8080/",
          "height": 465
        },
        "id": "UKZVcTwnyOe3",
        "outputId": "bc9d6c95-be82-425a-c1cf-a32e1e33dabc"
      },
      "execution_count": null,
      "outputs": [
        {
          "output_type": "execute_result",
          "data": {
            "text/plain": [
              "<Axes: title={'center': 'Data Distribution'}>"
            ]
          },
          "metadata": {},
          "execution_count": 13
        },
        {
          "output_type": "display_data",
          "data": {
            "text/plain": [
              "<Figure size 640x480 with 1 Axes>"
            ],
            "image/png": "[encoded data removed]"
          },
          "metadata": {}
        }
      ]
    },
    {
      "cell_type": "code",
      "source": [
        "x_red = x_red.to_numpy()"
      ],
      "metadata": {
        "id": "hT0rekWiBYNO"
      },
      "execution_count": null,
      "outputs": []
    },
    {
      "cell_type": "code",
      "source": [
        "y_red = y_red.to_numpy()"
      ],
      "metadata": {
        "id": "Ik7nXcMXCAlO"
      },
      "execution_count": null,
      "outputs": []
    },
    {
      "cell_type": "code",
      "source": [
        "from sklearn.model_selection import StratifiedShuffleSplit as strata\n",
        "split_info = strata(n_splits =1, test_size = 1000, random_state = 35)\n",
        "\n",
        "for train_index, test_index in split_info.split(x_red, y_red):\n",
        "  X_train = x_red[train_index, :]\n",
        "  x_test = x_red[test_index, :]\n",
        "  Y_train = y_red[train_index, :]\n",
        "  y_test = y_red[test_index, :]"
      ],
      "metadata": {
        "id": "EBg549Iqyl-c"
      },
      "execution_count": null,
      "outputs": []
    },
    {
      "cell_type": "code",
      "source": [
        "split_info_2 = strata(n_splits =1, test_size = .2, random_state = 35)\n",
        "\n",
        "for train_index, test_index in split_info_2.split(X_train, Y_train):\n",
        "  x_train = X_train[train_index, :]\n",
        "  x_val = X_train[test_index, :]\n",
        "  y_train = Y_train[train_index, :]\n",
        "  y_val = Y_train[test_index, :]"
      ],
      "metadata": {
        "id": "J6UCevRGCoRb"
      },
      "execution_count": null,
      "outputs": []
    },
    {
      "cell_type": "code",
      "source": [
        "np.shape(x_train)"
      ],
      "metadata": {
        "colab": {
          "base_uri": "https://localhost:8080/"
        },
        "id": "CIl6HubIC4kf",
        "outputId": "27841452-f9f1-4672-bc67-cab50385b69b"
      },
      "execution_count": null,
      "outputs": [
        {
          "output_type": "execute_result",
          "data": {
            "text/plain": [
              "(27571, 784)"
            ]
          },
          "metadata": {},
          "execution_count": 18
        }
      ]
    },
    {
      "cell_type": "code",
      "source": [
        "np.shape(y_train)"
      ],
      "metadata": {
        "colab": {
          "base_uri": "https://localhost:8080/"
        },
        "id": "hjpkFo0uC68h",
        "outputId": "cb1cbf77-4ca1-4837-d31e-40984fa84622"
      },
      "execution_count": null,
      "outputs": [
        {
          "output_type": "execute_result",
          "data": {
            "text/plain": [
              "(27571, 1)"
            ]
          },
          "metadata": {},
          "execution_count": 19
        }
      ]
    },
    {
      "cell_type": "code",
      "source": [
        "np.shape(x_test)"
      ],
      "metadata": {
        "colab": {
          "base_uri": "https://localhost:8080/"
        },
        "id": "YiMi-kRoC8hh",
        "outputId": "8f732d9d-d7f6-4160-993f-ed400ad59f08"
      },
      "execution_count": null,
      "outputs": [
        {
          "output_type": "execute_result",
          "data": {
            "text/plain": [
              "(1000, 784)"
            ]
          },
          "metadata": {},
          "execution_count": 20
        }
      ]
    },
    {
      "cell_type": "code",
      "source": [
        "np.shape(y_test)"
      ],
      "metadata": {
        "colab": {
          "base_uri": "https://localhost:8080/"
        },
        "id": "mA6oL2OCC-TE",
        "outputId": "66658065-57cc-4e9f-d98f-19f38e6d09fb"
      },
      "execution_count": null,
      "outputs": [
        {
          "output_type": "execute_result",
          "data": {
            "text/plain": [
              "(1000, 1)"
            ]
          },
          "metadata": {},
          "execution_count": 21
        }
      ]
    },
    {
      "cell_type": "code",
      "source": [
        "np.shape(x_val)"
      ],
      "metadata": {
        "colab": {
          "base_uri": "https://localhost:8080/"
        },
        "id": "L3z_4oq0C_ps",
        "outputId": "bb487390-9286-4f4b-d2d9-46ad866121bd"
      },
      "execution_count": null,
      "outputs": [
        {
          "output_type": "execute_result",
          "data": {
            "text/plain": [
              "(6893, 784)"
            ]
          },
          "metadata": {},
          "execution_count": 22
        }
      ]
    },
    {
      "cell_type": "code",
      "source": [
        "np.shape(y_val)"
      ],
      "metadata": {
        "colab": {
          "base_uri": "https://localhost:8080/"
        },
        "id": "jUL23oJ9DNkL",
        "outputId": "b39f2a53-6e34-48f5-b841-b414b9e927f7"
      },
      "execution_count": null,
      "outputs": [
        {
          "output_type": "execute_result",
          "data": {
            "text/plain": [
              "(6893, 1)"
            ]
          },
          "metadata": {},
          "execution_count": 23
        }
      ]
    },
    {
      "cell_type": "code",
      "source": [
        "x_train = (255 - x_train).astype(np.int64)"
      ],
      "metadata": {
        "id": "ydU67KyIGUv4"
      },
      "execution_count": null,
      "outputs": []
    },
    {
      "cell_type": "code",
      "source": [
        "x_test = (255 - x_test).astype(np.int64)"
      ],
      "metadata": {
        "id": "9uDMLcu3GjRt"
      },
      "execution_count": null,
      "outputs": []
    },
    {
      "cell_type": "code",
      "source": [
        "x_val = (255 - x_val).astype(np.int64)"
      ],
      "metadata": {
        "id": "Hk2n6Ky2GmdP"
      },
      "execution_count": null,
      "outputs": []
    },
    {
      "cell_type": "code",
      "execution_count": null,
      "metadata": {
        "id": "B8KWRqu8aYuB"
      },
      "outputs": [],
      "source": [
        "x_train = x_train / 255.\n",
        "x_test = x_test / 255.\n",
        "x_val = x_val / 255."
      ]
    },
    {
      "cell_type": "markdown",
      "metadata": {
        "id": "c0KFpxHwaeDA"
      },
      "source": [
        "**PART 1: Two+ Classifier Models**"
      ]
    },
    {
      "cell_type": "code",
      "execution_count": null,
      "metadata": {
        "id": "9M1OK1PIaeid"
      },
      "outputs": [],
      "source": [
        "from sklearn.ensemble import AdaBoostClassifier, RandomForestClassifier\n",
        "from sklearn.tree import DecisionTreeClassifier\n",
        "from sklearn.neighbors import KNeighborsClassifier\n",
        "from sklearn.svm import LinearSVC\n",
        "from sklearn.linear_model import LogisticRegression\n",
        "from sklearn.naive_bayes import MultinomialNB\n",
        "from sklearn.feature_selection import SelectFromModel\n",
        "from sklearn.model_selection import cross_val_predict\n",
        "from sklearn.metrics import accuracy_score, precision_score\n",
        "from sklearn.pipeline import Pipeline\n",
        "from sklearn.decomposition import PCA"
      ]
    },
    {
      "cell_type": "markdown",
      "metadata": {
        "id": "pYeSmFWYasYJ"
      },
      "source": [
        "*Initial tests*"
      ]
    },
    {
      "cell_type": "markdown",
      "metadata": {
        "id": "1dl3ikpRatwS"
      },
      "source": [
        "K-Nearest Neighbors"
      ]
    },
    {
      "cell_type": "code",
      "execution_count": null,
      "metadata": {
        "colab": {
          "base_uri": "https://localhost:8080/"
        },
        "id": "HraoS8vBavWC",
        "outputId": "5bdf34a8-1f63-4f91-fc26-07ed42770fdb"
      },
      "outputs": [
        {
          "output_type": "stream",
          "name": "stdout",
          "text": [
            "Accuracy of KNN: 0.4866\n",
            "Precision of KNN: 0.5068\n"
          ]
        }
      ],
      "source": [
        "knn = KNeighborsClassifier(n_neighbors = 4)\n",
        "knn.fit(x_train, y_train)\n",
        "knn_pred = knn.predict(x_val)\n",
        "\n",
        "knn_acc = accuracy_score(y_val, knn_pred)\n",
        "knn_prec = precision_score(y_val, knn_pred, average= 'macro')\n",
        "\n",
        "print('Accuracy of KNN: %1.4f' % knn_acc)\n",
        "print('Precision of KNN: %1.4f' % knn_prec)"
      ]
    },
    {
      "cell_type": "markdown",
      "metadata": {
        "id": "UaNgQzX0ax34"
      },
      "source": [
        "Random Forest"
      ]
    },
    {
      "cell_type": "code",
      "execution_count": null,
      "metadata": {
        "colab": {
          "base_uri": "https://localhost:8080/"
        },
        "id": "2nisVFAIazJy",
        "outputId": "c001c9ef-ed81-41ee-99d3-4bb35ddd5feb"
      },
      "outputs": [
        {
          "output_type": "stream",
          "name": "stdout",
          "text": [
            "Accuracy of RF: 0.4798\n",
            "Precision of RF: 0.4824\n"
          ]
        }
      ],
      "source": [
        "rf = RandomForestClassifier(n_estimators = 100, max_depth = 5)\n",
        "rf.fit(x_train, y_train)\n",
        "rf_pred = rf.predict(x_val)\n",
        "\n",
        "rf_acc = accuracy_score(y_val, rf_pred)\n",
        "rf_prec = precision_score(y_val, rf_pred, average = 'macro')\n",
        "\n",
        "print('Accuracy of RF: %1.4f' % rf_acc)\n",
        "print('Precision of RF: %1.4f' % rf_prec)"
      ]
    },
    {
      "cell_type": "markdown",
      "metadata": {
        "id": "Ch6NCqfoa1c6"
      },
      "source": [
        "Decision Tree"
      ]
    },
    {
      "cell_type": "code",
      "execution_count": null,
      "metadata": {
        "colab": {
          "base_uri": "https://localhost:8080/"
        },
        "id": "PofHCMYwa0u6",
        "outputId": "530949ed-0ccf-41cd-c5fd-1235188b08e0"
      },
      "outputs": [
        {
          "output_type": "stream",
          "name": "stdout",
          "text": [
            "Accuracy of DT: 0.4928\n",
            "Precision of DT: 0.4935\n"
          ]
        }
      ],
      "source": [
        "dt = DecisionTreeClassifier()\n",
        "dt.fit(x_train, y_train)\n",
        "dt_pred = dt.predict(x_val)\n",
        "\n",
        "dt_acc = accuracy_score(y_val, dt_pred)\n",
        "dt_prec = precision_score(y_val, dt_pred, average = 'macro')\n",
        "\n",
        "print('Accuracy of DT: %1.4f' % dt_acc)\n",
        "print('Precision of DT: %1.4f' % dt_prec)"
      ]
    },
    {
      "cell_type": "markdown",
      "metadata": {
        "id": "K2JWDdI9a4Vi"
      },
      "source": [
        "Support Vector Machine"
      ]
    },
    {
      "cell_type": "code",
      "execution_count": null,
      "metadata": {
        "colab": {
          "base_uri": "https://localhost:8080/"
        },
        "id": "se-MSrVfa5wS",
        "outputId": "143cf993-5213-4129-9081-84dc34b45319"
      },
      "outputs": [
        {
          "output_type": "stream",
          "name": "stdout",
          "text": [
            "Accuracy of SVM: 0.3698\n",
            "Precision of SVM: 0.5144\n"
          ]
        }
      ],
      "source": [
        "svm = LinearSVC()\n",
        "svm.fit(x_train, y_train)\n",
        "svm_pred = svm.predict(x_val)\n",
        "\n",
        "svm_acc = accuracy_score(y_val, svm_pred)\n",
        "svm_prec = precision_score(y_val, svm_pred, average = 'macro')\n",
        "\n",
        "print('Accuracy of SVM: %1.4f' % svm_acc)\n",
        "print('Precision of SVM: %1.4f' % svm_prec)"
      ]
    },
    {
      "cell_type": "markdown",
      "metadata": {
        "id": "E2slNnQoa697"
      },
      "source": [
        "Logistic Regression"
      ]
    },
    {
      "cell_type": "code",
      "execution_count": null,
      "metadata": {
        "colab": {
          "base_uri": "https://localhost:8080/"
        },
        "id": "lNBgvaEua8Zj",
        "outputId": "ff4839e4-1af7-4cc7-c621-457a0055eb8b"
      },
      "outputs": [
        {
          "output_type": "stream",
          "name": "stdout",
          "text": [
            "Accuracy of LR: 0.4190\n",
            "Precision of LR: 0.4209\n"
          ]
        }
      ],
      "source": [
        "lr = LogisticRegression()\n",
        "lr.fit(x_train, y_train)\n",
        "lr_pred = lr.predict(x_val)\n",
        "\n",
        "lr_acc = accuracy_score(y_val, lr_pred)\n",
        "lr_prec = precision_score(y_val, lr_pred, average = 'macro')\n",
        "\n",
        "print('Accuracy of LR: %1.4f' % lr_acc)\n",
        "print('Precision of LR: %1.4f' % lr_prec)"
      ]
    },
    {
      "cell_type": "markdown",
      "metadata": {
        "id": "byHy3teOa9qu"
      },
      "source": [
        "Naive Bayesian"
      ]
    },
    {
      "cell_type": "code",
      "execution_count": null,
      "metadata": {
        "colab": {
          "base_uri": "https://localhost:8080/"
        },
        "id": "1GLdgwZ1a_Dn",
        "outputId": "acec0a84-eaeb-4a39-9f3c-c5906a3151cb"
      },
      "outputs": [
        {
          "output_type": "stream",
          "name": "stdout",
          "text": [
            "Accuracy of NB: 0.2941\n",
            "Precision of NB: 0.2947\n"
          ]
        }
      ],
      "source": [
        "nb = MultinomialNB()\n",
        "nb.fit(x_train, y_train)\n",
        "nb_pred = nb.predict(x_val)\n",
        "\n",
        "nb_acc = accuracy_score(y_val, nb_pred)\n",
        "nb_prec = precision_score(y_val, nb_pred, average = 'macro')\n",
        "\n",
        "print('Accuracy of NB: %1.4f' % nb_acc)\n",
        "print('Precision of NB: %1.4f' % nb_prec)"
      ]
    },
    {
      "cell_type": "markdown",
      "metadata": {
        "id": "GDh3u_theV7b"
      },
      "source": [
        "The top three individual models when using standard parameters are KNN, SVM, and decision tree. \n"
      ]
    },
    {
      "cell_type": "markdown",
      "metadata": {
        "id": "9Idg9AFCeW8K"
      },
      "source": [
        "Let's test combinations of models. But first, let's set up a PCA which we can combine with other models to see if dimensionality reduction helps performance."
      ]
    },
    {
      "cell_type": "code",
      "execution_count": null,
      "metadata": {
        "colab": {
          "base_uri": "https://localhost:8080/",
          "height": 725
        },
        "id": "-2rMACAceWbx",
        "outputId": "ea7c384c-ef06-4eb4-f5de-b08d4e61e3f4"
      },
      "outputs": [
        {
          "output_type": "stream",
          "name": "stdout",
          "text": [
            "43 out of 784 components account for 95% of variance\n",
            "53 out of 784 components account for 96% of variance\n",
            "67 out of 784 components account for 97% of variance\n",
            "90 out of 784 components account for 98% of variance\n",
            "136 out of 784 components account for 99% of variance\n"
          ]
        },
        {
          "output_type": "display_data",
          "data": {
            "text/plain": [
              "<Figure size 900x900 with 1 Axes>"
            ],
            "image/png": "[encoded data removed]"
          },
          "metadata": {}
        }
      ],
      "source": [
        "from sklearn.decomposition import PCA\n",
        "\n",
        "pcaval = PCA()\n",
        "pcaval.fit(x_train)\n",
        "\n",
        "\n",
        "## Compute how much variance is explained by each component\n",
        "CUMSUM_gold = np.cumsum(pcaval.explained_variance_ratio_)\n",
        "for perc in range(95,100):\n",
        "    dmax = np.argmax(CUMSUM_gold >= (perc/100)) + 1\n",
        "    print('%d out of %d components account for %d%% of variance' % (dmax, np.size(x_train,axis=1), perc))\n",
        "\n",
        "\n",
        "\n",
        "## Plot the results\n",
        "plt.figure(figsize=(9,9))\n",
        "plt.xlabel('Number of principal components')\n",
        "plt.ylabel('Fraction of variance')\n",
        "plt.plot(range(2,len(CUMSUM_gold)+1), CUMSUM_gold[1:], marker='o')\n",
        "plt.show()"
      ]
    },
    {
      "cell_type": "code",
      "execution_count": null,
      "metadata": {
        "id": "MiLMdkjYea9f"
      },
      "outputs": [],
      "source": [
        "pca_99 = PCA(n_components = 136)\n",
        "\n",
        "x_train_pca = pca_99.fit_transform(x_train)\n",
        "x_val_pca = pca_99.transform(x_val)"
      ]
    },
    {
      "cell_type": "code",
      "execution_count": null,
      "metadata": {
        "colab": {
          "base_uri": "https://localhost:8080/"
        },
        "id": "sSlEC1OXecIL",
        "outputId": "decba170-5faf-4ca7-f9c6-3559acd503cf"
      },
      "outputs": [
        {
          "output_type": "stream",
          "name": "stdout",
          "text": [
            "(27571, 136)\n"
          ]
        }
      ],
      "source": [
        "print(np.shape(x_train_pca))"
      ]
    },
    {
      "cell_type": "markdown",
      "metadata": {
        "id": "MwdRok83ecsj"
      },
      "source": [
        "We can now build ensembles and train them with and without a PCA."
      ]
    },
    {
      "cell_type": "markdown",
      "metadata": {
        "id": "lEunKJLF03eQ"
      },
      "source": [
        "Prepare X_train and X_val for feature selection. First do Random Forest feature selection."
      ]
    },
    {
      "cell_type": "code",
      "execution_count": null,
      "metadata": {
        "id": "FmyHFlR5ef0Q"
      },
      "outputs": [],
      "source": [
        "rf_features = RandomForestClassifier(\n",
        "    n_estimators = 100,\n",
        "    criterion = 'entropy',\n",
        "    max_depth = 5\n",
        ")\n",
        "\n",
        "selected_features = SelectFromModel(rf_features, threshold = 'median')\n",
        "\n",
        "x_train_rf = selected_features.fit_transform(x_train, y_train)\n"
      ]
    },
    {
      "cell_type": "code",
      "execution_count": null,
      "metadata": {
        "colab": {
          "base_uri": "https://localhost:8080/"
        },
        "id": "3FDiHJDXehCi",
        "outputId": "74ceaafc-f424-419d-8c51-c117edfb1ec5"
      },
      "outputs": [
        {
          "output_type": "stream",
          "name": "stdout",
          "text": [
            "(27571, 392)\n"
          ]
        }
      ],
      "source": [
        "print(np.shape(x_train_rf))"
      ]
    },
    {
      "cell_type": "code",
      "execution_count": null,
      "metadata": {
        "colab": {
          "base_uri": "https://localhost:8080/"
        },
        "id": "JW_aapmXeiSf",
        "outputId": "e72920c9-bc3e-44ed-f104-b64f8b403928"
      },
      "outputs": [
        {
          "output_type": "stream",
          "name": "stdout",
          "text": [
            "(6893, 392)\n"
          ]
        }
      ],
      "source": [
        "x_val_rf = selected_features.transform(x_val)\n",
        "print(np.shape(x_val_rf))"
      ]
    },
    {
      "cell_type": "markdown",
      "metadata": {
        "id": "TYckC9VF1Jzj"
      },
      "source": [
        "Next do logistic regression feature selection."
      ]
    },
    {
      "cell_type": "code",
      "execution_count": null,
      "metadata": {
        "id": "MJ00en4chAuI"
      },
      "outputs": [],
      "source": [
        "lr_features = LogisticRegression()\n",
        "\n",
        "selected_features_lr = SelectFromModel(lr_features, threshold = 'median')\n",
        "\n",
        "x_train_lr = selected_features_lr.fit_transform(x_train, y_train)"
      ]
    },
    {
      "cell_type": "code",
      "execution_count": null,
      "metadata": {
        "colab": {
          "base_uri": "https://localhost:8080/"
        },
        "id": "wr54i5hVhUIk",
        "outputId": "d071f846-3841-40a7-cbf1-70b72dab85f9"
      },
      "outputs": [
        {
          "output_type": "stream",
          "name": "stdout",
          "text": [
            "(27571, 392)\n"
          ]
        }
      ],
      "source": [
        "print(np.shape(x_train_lr))"
      ]
    },
    {
      "cell_type": "code",
      "execution_count": null,
      "metadata": {
        "colab": {
          "base_uri": "https://localhost:8080/"
        },
        "id": "NpuxCYrxhVPZ",
        "outputId": "08af8978-3412-45b2-df85-8b60e9810e86"
      },
      "outputs": [
        {
          "output_type": "stream",
          "name": "stdout",
          "text": [
            "(6893, 392)\n"
          ]
        }
      ],
      "source": [
        "x_val_lr = selected_features_lr.transform(x_val)\n",
        "print(np.shape(x_val_lr))"
      ]
    },
    {
      "cell_type": "markdown",
      "metadata": {
        "id": "pCmSPGAved82"
      },
      "source": [
        "A) Random Forest with SVM"
      ]
    },
    {
      "cell_type": "code",
      "execution_count": null,
      "metadata": {
        "colab": {
          "base_uri": "https://localhost:8080/"
        },
        "id": "i3ee6oVGekc_",
        "outputId": "e06f17f8-071d-4909-cb04-5de2c6d5a32d"
      },
      "outputs": [
        {
          "output_type": "stream",
          "name": "stdout",
          "text": [
            "Accuracy of RF + LinSVC: 0.4802\n",
            "Precision of RF + LinSVC: 0.4937\n"
          ]
        }
      ],
      "source": [
        "lin_svc = LinearSVC()\n",
        "\n",
        "lin_svc.fit(x_train_rf, y_train)\n",
        "lin_svc_pred = lin_svc.predict(x_val_rf)\n",
        "\n",
        "lin_svc_acc = accuracy_score(y_val, lin_svc_pred)\n",
        "lin_svc_prec = precision_score(y_val, lin_svc_pred, average = 'macro')\n",
        "\n",
        "print('Accuracy of RF + LinSVC: %1.4f' % lin_svc_acc)\n",
        "print('Precision of RF + LinSVC: %1.4f' % lin_svc_prec)"
      ]
    },
    {
      "cell_type": "markdown",
      "metadata": {
        "id": "eHTerx4whcCa"
      },
      "source": [
        "B) Logistic regression for feature selection with SVM"
      ]
    },
    {
      "cell_type": "code",
      "execution_count": null,
      "metadata": {
        "colab": {
          "base_uri": "https://localhost:8080/"
        },
        "id": "R8VFwyfUhbOE",
        "outputId": "0403d8bc-f6d6-4220-d59b-0727d0c6a1b1"
      },
      "outputs": [
        {
          "output_type": "stream",
          "name": "stdout",
          "text": [
            "Accuracy of LR + LinSVC: 0.4682\n",
            "Precision of LR + LinSVC: 0.4735\n"
          ]
        }
      ],
      "source": [
        "lin_svc_lr = LinearSVC()\n",
        "\n",
        "lin_svc_lr.fit(x_train_lr, y_train)\n",
        "lin_svc_lr_pred = lin_svc_lr.predict(x_val_lr)\n",
        "\n",
        "lin_svc_lr_acc = accuracy_score(y_val, lin_svc_lr_pred)\n",
        "lin_svc_lr_prec = precision_score(y_val, lin_svc_lr_pred, average = 'macro')\n",
        "\n",
        "print('Accuracy of LR + LinSVC: %1.4f' % lin_svc_lr_acc)\n",
        "print('Precision of LR + LinSVC: %1.4f' % lin_svc_lr_prec)"
      ]
    },
    {
      "cell_type": "markdown",
      "metadata": {
        "id": "ZAyI0UdDem5J"
      },
      "source": [
        "C) PCA into SVM"
      ]
    },
    {
      "cell_type": "code",
      "execution_count": null,
      "metadata": {
        "colab": {
          "base_uri": "https://localhost:8080/"
        },
        "id": "a8yVPOR3erCp",
        "outputId": "31384771-4d31-459e-b710-a59ce2b5b182"
      },
      "outputs": [
        {
          "output_type": "stream",
          "name": "stdout",
          "text": [
            "Accuracy of PCA + LinSVC: 0.4709\n",
            "Precision of PCA + LinSVC: 0.4703\n"
          ]
        }
      ],
      "source": [
        "lin_svc_pca = LinearSVC()\n",
        "\n",
        "lin_svc_pca.fit(x_train_pca, y_train)\n",
        "lin_svc_pca_pred = lin_svc_pca.predict(x_val_pca)\n",
        "\n",
        "lin_svc_pca_acc = accuracy_score(y_val, lin_svc_pca_pred)\n",
        "lin_svc_pca_prec = precision_score(y_val, lin_svc_pca_pred, average = 'macro')\n",
        "\n",
        "print('Accuracy of PCA + LinSVC: %1.4f' % lin_svc_pca_acc)\n",
        "print('Precision of PCA + LinSVC: %1.4f' % lin_svc_pca_prec)"
      ]
    },
    {
      "cell_type": "markdown",
      "metadata": {
        "id": "McOIIuydoQvL"
      },
      "source": [
        "D) Logistic regression feature selection into a random forest"
      ]
    },
    {
      "cell_type": "code",
      "execution_count": null,
      "metadata": {
        "colab": {
          "base_uri": "https://localhost:8080/"
        },
        "id": "2GhZOyHvndNY",
        "outputId": "024c1000-fb9a-413a-d1cb-f2487f54819c"
      },
      "outputs": [
        {
          "output_type": "stream",
          "name": "stdout",
          "text": [
            "Accuracy of LR + RF: 0.6901\n",
            "Precision of LR + RF: 0.6909\n"
          ]
        }
      ],
      "source": [
        "lr_rf = RandomForestClassifier()\n",
        "\n",
        "lr_rf.fit(x_train_lr, y_train)\n",
        "lr_rf_pred = lr_rf.predict(x_val_lr)\n",
        "\n",
        "lr_rf_acc = accuracy_score(y_val, lr_rf_pred)\n",
        "lr_rf_prec = precision_score(y_val, lr_rf_pred, average = 'macro')\n",
        "\n",
        "print('Accuracy of LR + RF: %1.4f' % lr_rf_acc)\n",
        "print('Precision of LR + RF: %1.4f' % lr_rf_prec)"
      ]
    },
    {
      "cell_type": "markdown",
      "metadata": {
        "id": "TutogwXqqEqJ"
      },
      "source": [
        "E) Random forest into a logistic regressor?"
      ]
    },
    {
      "cell_type": "code",
      "execution_count": null,
      "metadata": {
        "colab": {
          "base_uri": "https://localhost:8080/"
        },
        "id": "tlwaT2kfqFQ6",
        "outputId": "60c70f5c-b975-4333-a132-9036668168d6"
      },
      "outputs": [
        {
          "output_type": "stream",
          "name": "stdout",
          "text": [
            "Accuracy of RF + LR: 0.4226\n",
            "Precision of RF + LR: 0.4198\n"
          ]
        }
      ],
      "source": [
        "rf_lr = LogisticRegression()\n",
        "\n",
        "rf_lr.fit(x_train_rf, y_train)\n",
        "rf_lr_pred = rf_lr.predict(x_val_rf)\n",
        "\n",
        "rf_lr_acc = accuracy_score(y_val, rf_lr_pred)\n",
        "rf_lr_prec = precision_score(y_val, rf_lr_pred, average = 'macro')\n",
        "\n",
        "print('Accuracy of RF + LR: %1.4f' % rf_lr_acc)\n",
        "print('Precision of RF + LR: %1.4f' % rf_lr_prec)\n"
      ]
    },
    {
      "cell_type": "markdown",
      "metadata": {
        "id": "tvmT49Dop7DZ"
      },
      "source": [
        "F) Logistic regressor feature selection into a KNN"
      ]
    },
    {
      "cell_type": "code",
      "execution_count": null,
      "metadata": {
        "colab": {
          "base_uri": "https://localhost:8080/"
        },
        "id": "Q-1z2p8np6qI",
        "outputId": "75c83df7-a107-42d8-9e51-d6479926630e"
      },
      "outputs": [
        {
          "output_type": "stream",
          "name": "stdout",
          "text": [
            "Accuracy of LR + KNN: 0.5388\n",
            "Precision of LR + KNN: 0.5596\n"
          ]
        }
      ],
      "source": [
        "lr_knn = KNeighborsClassifier()\n",
        "\n",
        "lr_knn.fit(x_train_lr, y_train)\n",
        "lr_knn_pred = lr_knn.predict(x_val_lr)\n",
        "\n",
        "lr_knn_acc = accuracy_score(y_val, lr_knn_pred)\n",
        "lr_knn_prec = precision_score(y_val, lr_knn_pred, average = 'macro')\n",
        "\n",
        "print('Accuracy of LR + KNN: %1.4f' % lr_knn_acc)\n",
        "print('Precision of LR + KNN: %1.4f' % lr_knn_prec)"
      ]
    },
    {
      "cell_type": "markdown",
      "metadata": {
        "id": "GIR2HMkop7XE"
      },
      "source": [
        "G) Random forest into a KNN"
      ]
    },
    {
      "cell_type": "code",
      "execution_count": null,
      "metadata": {
        "colab": {
          "base_uri": "https://localhost:8080/"
        },
        "id": "yI5pr5gQp7vK",
        "outputId": "5f3ac64f-2d57-4260-d355-034647ed86f9"
      },
      "outputs": [
        {
          "output_type": "stream",
          "name": "stdout",
          "text": [
            "Accuracy of RF + KNN: 0.5420\n",
            "Precision of RF + KNN: 0.5663\n"
          ]
        }
      ],
      "source": [
        "rf_knn = KNeighborsClassifier(n_neighbors = 4)\n",
        "\n",
        "rf_knn.fit(x_train_rf, y_train)\n",
        "rf_knn_pred = rf_knn.predict(x_val_rf)\n",
        "\n",
        "rf_knn_acc = accuracy_score(y_val, rf_knn_pred)\n",
        "rf_knn_prec = precision_score(y_val, rf_knn_pred, average = 'macro')\n",
        "\n",
        "print('Accuracy of RF + KNN: %1.4f' % rf_knn_acc)\n",
        "print('Precision of RF + KNN: %1.4f' % rf_knn_prec)"
      ]
    },
    {
      "cell_type": "markdown",
      "metadata": {
        "id": "kr1EyhTUevGq"
      },
      "source": [
        "H) Adaboost and Decision Tree"
      ]
    },
    {
      "cell_type": "code",
      "execution_count": null,
      "metadata": {
        "colab": {
          "base_uri": "https://localhost:8080/"
        },
        "id": "FP_8obZsevcZ",
        "outputId": "f11df189-39c0-4c83-fe09-4999ad41cd25"
      },
      "outputs": [
        {
          "output_type": "stream",
          "name": "stdout",
          "text": [
            "Accuracy of AB + DT: 0.5893\n",
            "Precision of AB + DT: 0.6037\n"
          ]
        }
      ],
      "source": [
        "dt_clf = DecisionTreeClassifier(\n",
        "    max_depth = 5,\n",
        "    criterion = 'entropy'\n",
        ")\n",
        "\n",
        "dt_abc = AdaBoostClassifier(\n",
        "    dt_clf,\n",
        "    n_estimators = 50,\n",
        "    algorithm = 'SAMME.R'\n",
        ")\n",
        "\n",
        "dt_abc.fit(x_train, y_train)\n",
        "dt_abc_pred = dt_abc.predict(x_val)\n",
        "dt_abc_acc = accuracy_score(y_val, dt_abc_pred)\n",
        "dt_abc_prec = precision_score(y_val, dt_abc_pred, average = 'macro')\n",
        "\n",
        "print('Accuracy of AB + DT: %1.4f' % dt_abc_acc)\n",
        "print('Precision of AB + DT: %1.4f' % dt_abc_prec)"
      ]
    },
    {
      "cell_type": "markdown",
      "metadata": {
        "id": "rSYYSViLeySL"
      },
      "source": [
        "I) PCA, then AdaBoost for Decision Tree"
      ]
    },
    {
      "cell_type": "code",
      "execution_count": null,
      "metadata": {
        "colab": {
          "base_uri": "https://localhost:8080/"
        },
        "id": "CX4kb2LOeyhz",
        "outputId": "00c6cf57-d4d9-4755-933b-01654efa121f"
      },
      "outputs": [
        {
          "output_type": "stream",
          "name": "stdout",
          "text": [
            "Accuracy of PCA + AB + DT: 0.5300\n",
            "Precision of PCA + AB + DT: 0.5450\n"
          ]
        }
      ],
      "source": [
        "dt_abc_pca = AdaBoostClassifier(\n",
        "    dt_clf,\n",
        "    n_estimators = 100,\n",
        "    algorithm = 'SAMME.R'\n",
        ")\n",
        "\n",
        "dt_abc_pca.fit(x_train_pca, y_train)\n",
        "dt_abc_pca_pred = dt_abc_pca.predict(x_val_pca)\n",
        "dt_abc_pca_acc = accuracy_score(y_val, dt_abc_pca_pred)\n",
        "dt_abc_pca_prec = precision_score(y_val, dt_abc_pca_pred, average = 'macro')\n",
        "\n",
        "print('Accuracy of PCA + AB + DT: %1.4f' % dt_abc_pca_acc)\n",
        "print('Precision of PCA + AB + DT: %1.4f' % dt_abc_pca_prec)"
      ]
    },
    {
      "cell_type": "code",
      "source": [
        "dt_abc_log = AdaBoostClassifier(\n",
        "    dt_clf,\n",
        "    n_estimators = 100,\n",
        "    algorithm = 'SAMME.R'\n",
        ")\n",
        "\n",
        "dt_abc_log.fit(x_train_lr, y_train)\n",
        "dt_abc_log_pred = dt_abc_log.predict(x_val_lr)\n",
        "dt_abc_log_acc = accuracy_score(y_val, dt_abc_log_pred)\n",
        "dt_abc_log_prec = precision_score(y_val, dt_abc_log_pred, average = 'macro')\n"
      ],
      "metadata": {
        "id": "NJNAfDOmjHXM"
      },
      "execution_count": null,
      "outputs": []
    },
    {
      "cell_type": "code",
      "source": [
        "print('Accuracy of LR + AB + DT: %1.4f' % dt_abc_log_acc)\n",
        "print('Precision of LR + AB + DT: %1.4f' % dt_abc_log_prec)"
      ],
      "metadata": {
        "colab": {
          "base_uri": "https://localhost:8080/"
        },
        "id": "hQg-4EX3mHxm",
        "outputId": "1d886d65-0ce1-449c-a063-0b7daca0c9a8"
      },
      "execution_count": null,
      "outputs": [
        {
          "output_type": "stream",
          "name": "stdout",
          "text": [
            "Accuracy of LR + AB + DT: 0.5732\n",
            "Precision of LR + AB + DT: 0.5953\n"
          ]
        }
      ]
    },
    {
      "cell_type": "markdown",
      "metadata": {
        "id": "l7LkyITge5e1"
      },
      "source": [
        "J) Given how good Logistic Regression and Random Forest performed, let's see how SGD feature selection and random forest perform"
      ]
    },
    {
      "cell_type": "code",
      "execution_count": null,
      "metadata": {
        "id": "Bf7t0KW8I_tJ"
      },
      "outputs": [],
      "source": [
        "from sklearn.linear_model import SGDClassifier"
      ]
    },
    {
      "cell_type": "code",
      "execution_count": null,
      "metadata": {
        "id": "LqEHoZkDOOjj"
      },
      "outputs": [],
      "source": [
        "sgd_features = SGDClassifier(loss = 'log_loss')\n",
        "\n",
        "selected_features_sgd = SelectFromModel(sgd_features, threshold = 'median')\n",
        "\n",
        "x_train_sgd = selected_features_sgd.fit_transform(x_train, y_train)\n",
        "\n",
        "x_val_sgd = selected_features_sgd.transform(x_val)"
      ]
    },
    {
      "cell_type": "code",
      "execution_count": null,
      "metadata": {
        "colab": {
          "base_uri": "https://localhost:8080/"
        },
        "id": "OtgV2CG6fLY7",
        "outputId": "0930021d-e925-45fc-f146-76deb00a26a5"
      },
      "outputs": [
        {
          "output_type": "stream",
          "name": "stdout",
          "text": [
            "Accuracy of SGD + RF: 0.6852\n",
            "Precision of SGD + RF: 0.6870\n"
          ]
        }
      ],
      "source": [
        "sgd_rf = RandomForestClassifier()\n",
        "\n",
        "sgd_rf.fit(x_train_sgd, y_train)\n",
        "sgd_rf_pred = sgd_rf.predict(x_val_sgd)\n",
        "\n",
        "sgd_rf_acc = accuracy_score(y_val, sgd_rf_pred)\n",
        "sgd_rf_prec = precision_score(y_val, sgd_rf_pred, average = 'macro')\n",
        "\n",
        "print('Accuracy of SGD + RF: %1.4f' % sgd_rf_acc)\n",
        "print('Precision of SGD + RF: %1.4f' % sgd_rf_prec)"
      ]
    },
    {
      "cell_type": "markdown",
      "metadata": {
        "id": "hY2RJPUXNlVJ"
      },
      "source": [
        "K) Let's try one last predictor, using SGD with gradient boost"
      ]
    },
    {
      "cell_type": "code",
      "execution_count": null,
      "metadata": {
        "id": "d_hCpO_NOZOW"
      },
      "outputs": [],
      "source": [
        "from sklearn.ensemble import GradientBoostingClassifier"
      ]
    },
    {
      "cell_type": "code",
      "execution_count": null,
      "metadata": {
        "colab": {
          "base_uri": "https://localhost:8080/"
        },
        "id": "PPxrE8MDN-PH",
        "outputId": "d5082dc4-1b15-4ffb-dd37-922f935c644e"
      },
      "outputs": [
        {
          "output_type": "stream",
          "name": "stdout",
          "text": [
            "Accuracy of SGD + GB: 0.6151\n",
            "Precision of SGD + GB: 0.6210\n"
          ]
        }
      ],
      "source": [
        "sgd_gb = GradientBoostingClassifier()\n",
        "\n",
        "sgd_gb.fit(x_train_sgd, y_train)\n",
        "sgd_gb_pred = sgd_gb.predict(x_val_sgd)\n",
        "\n",
        "sgd_gb_acc = accuracy_score(y_val, sgd_gb_pred)\n",
        "sgd_gb_prec = precision_score(y_val, sgd_gb_pred, average = 'macro')\n",
        "\n",
        "print('Accuracy of SGD + GB: %1.4f' % sgd_gb_acc)\n",
        "print('Precision of SGD + GB: %1.4f' % sgd_gb_prec)"
      ]
    },
    {
      "cell_type": "markdown",
      "metadata": {
        "id": "5rawIAxxfIW6"
      },
      "source": [
        "**Perform a parameter search and cross validation on top model**"
      ]
    },
    {
      "cell_type": "code",
      "execution_count": null,
      "metadata": {
        "id": "HS5ujiNV4CFO"
      },
      "outputs": [],
      "source": [
        "sgd_rf_acctable = pd.DataFrame(columns = [])\n",
        "\n",
        "\n",
        "C = [0.001, 0.01, 0.1, 1]\n",
        "solver = ['sag', 'lbfgs', 'newton-cg']\n",
        "threshold = ['1.25*median', 'median']\n",
        "criterion = ['gini', 'entropy', 'log_loss']\n",
        "n_estimators = [100, 500, 1000, 2000]\n",
        "max_depth = [2, 5, None]\n"
      ]
    },
    {
      "cell_type": "code",
      "execution_count": null,
      "metadata": {
        "colab": {
          "base_uri": "https://localhost:8080/"
        },
        "id": "Y8C0oCOh-Anj",
        "outputId": "9b865622-70b7-4dee-a1f3-d715f6ea7aec"
      },
      "outputs": [
        {
          "output_type": "stream",
          "name": "stdout",
          "text": [
            "0.6008 0.6044391318296296 1\n",
            "0.6019 0.6049988566880602 2\n",
            "0.6007 0.6042681961005496 3\n",
            "0.6013 0.6051800570066503 4\n",
            "      acc      prec      C solver    threshold criterion n_est max_depth\n",
            "0  0.6008  0.604439  0.001    sag  1.25*median      gini  1000         5\n",
            "1  0.6019  0.604999  0.010    sag  1.25*median      gini  1000         5\n",
            "2  0.6007  0.604268  0.100    sag  1.25*median      gini  1000         5\n",
            "3  0.6013  0.605180  1.000    sag  1.25*median      gini  1000         5\n"
          ]
        }
      ],
      "source": [
        "lr_rf_parameters = pd.DataFrame(columns = ['acc', 'prec', 'C', 'solver', 'threshold', 'criterion', 'n_est', 'max_depth'])\n",
        "\n",
        "iteration = 1\n",
        "\n",
        "for i in range(0, 4):\n",
        "  for j in range(0, 1):\n",
        "    for m in range(0, 1):\n",
        "      for n in range(0, 1):\n",
        "        for o in range(0, 1):\n",
        "          for p in range(0, 1):\n",
        "\n",
        "              lr_model = LogisticRegression(\n",
        "                  penalty = 'l2',\n",
        "                  C = C[i],\n",
        "                  solver = solver[j],\n",
        "                  warm_start = True,\n",
        "                  n_jobs = -1,\n",
        "                  random_state = 30,\n",
        "                  multi_class = 'ovr'\n",
        "              )\n",
        "\n",
        "              select_lr = SelectFromModel(\n",
        "                  lr_model,\n",
        "                  threshold = threshold[m]\n",
        "              )\n",
        "\n",
        "              select_x_train = select_lr.fit_transform(x_train[:10000], y_train[:10000])\n",
        "              select_x_val = select_lr.transform(x_val)\n",
        "\n",
        "              lr_rf_model = RandomForestClassifier()\n",
        "\n",
        "              lr_rf_model_cv = cross_val_predict(lr_rf_model, select_x_train, y_train[:10000], cv = 3, n_jobs = -1)\n",
        "              model_acc = accuracy_score(y_train[:10000], lr_rf_model_cv)\n",
        "              model_prec = precision_score(y_train[:10000], lr_rf_model_cv, average = 'macro')\n",
        "\n",
        "              lr_rf_parameters = lr_rf_parameters.append({'acc' : model_acc, \n",
        "                                                            'prec' : model_prec, \n",
        "                                                            'C' : C[i], \n",
        "                                                            'solver' : solver[j], \n",
        "                                                            'threshold' : threshold[m], \n",
        "                                                            'criterion' : criterion[n], \n",
        "                                                            'n_est' : n_estimators[o], \n",
        "                                                            'max_depth' : max_depth[p]}\n",
        "                                                            , ignore_index = True)\n",
        "              print(model_acc, model_prec, iteration)\n",
        "\n",
        "              iteration += 1\n",
        "\n",
        "print(lr_rf_parameters)"
      ]
    },
    {
      "cell_type": "code",
      "source": [
        "lr_rf_parameters = pd.DataFrame(columns = ['acc', 'prec', 'solver', 'threshold', 'criterion', 'n_est', 'max_depth'])\n",
        "\n",
        "iteration = 1\n",
        "\n",
        "for j in range(0, 3):\n",
        "  for m in range(0, 2):\n",
        "    for n in range(0, 1):\n",
        "      for o in range(0, 1):\n",
        "        for p in range(0, 1):\n",
        "\n",
        "            lr_model = LogisticRegression(\n",
        "                penalty = 'l2',\n",
        "                C = 0.01,\n",
        "                solver = solver[j],\n",
        "                warm_start = True,\n",
        "                n_jobs = -1,\n",
        "                random_state = 30,\n",
        "                multi_class = 'ovr'\n",
        "            )\n",
        "\n",
        "            select_lr = SelectFromModel(\n",
        "                lr_model,\n",
        "                threshold = threshold[m]\n",
        "            )\n",
        "\n",
        "            select_x_train = select_lr.fit_transform(x_train[:10000], y_train[:10000])\n",
        "            select_x_val = select_lr.transform(x_val)\n",
        "\n",
        "            lr_rf_model = RandomForestClassifier()\n",
        "\n",
        "            lr_rf_model_cv = cross_val_predict(lr_rf_model, select_x_train, y_train[:10000], cv = 3, n_jobs = -1)\n",
        "            model_acc = accuracy_score(y_train[:10000], lr_rf_model_cv)\n",
        "            model_prec = precision_score(y_train[:10000], lr_rf_model_cv, average = 'macro')\n",
        "\n",
        "            lr_rf_parameters = lr_rf_parameters.append({'acc' : model_acc, \n",
        "                                                          'prec' : model_prec, \n",
        "                                                          'C' : C[i], \n",
        "                                                          'solver' : solver[j], \n",
        "                                                          'threshold' : threshold[m], \n",
        "                                                          'criterion' : criterion[n], \n",
        "                                                          'n_est' : n_estimators[o], \n",
        "                                                          'max_depth' : max_depth[p]}\n",
        "                                                          , ignore_index = True)\n",
        "            print(model_acc, model_prec, iteration)\n",
        "\n",
        "            iteration += 1\n",
        "\n",
        "print(lr_rf_parameters)"
      ],
      "metadata": {
        "colab": {
          "base_uri": "https://localhost:8080/"
        },
        "id": "Iuyp5sgxt2jY",
        "outputId": "5a3d8fcc-4ef6-4865-dea5-b30649f73d22"
      },
      "execution_count": null,
      "outputs": [
        {
          "output_type": "stream",
          "name": "stdout",
          "text": [
            "0.5986 0.6022797348433889 1\n",
            "0.5997 0.6037772685351843 2\n",
            "0.5948 0.5974650555356137 3\n",
            "0.6022 0.605230832726511 4\n",
            "0.6008 0.6039005716452522 5\n",
            "0.6041 0.6079453008691857 6\n",
            "      acc      prec     solver    threshold criterion n_est max_depth    C\n",
            "0  0.5986  0.602280        sag  1.25*median      gini  1000         5  1.0\n",
            "1  0.5997  0.603777        sag       median      gini  1000         5  1.0\n",
            "2  0.5948  0.597465      lbfgs  1.25*median      gini  1000         5  1.0\n",
            "3  0.6022  0.605231      lbfgs       median      gini  1000         5  1.0\n",
            "4  0.6008  0.603901  newton-cg  1.25*median      gini  1000         5  1.0\n",
            "5  0.6041  0.607945  newton-cg       median      gini  1000         5  1.0\n"
          ]
        }
      ]
    },
    {
      "cell_type": "code",
      "source": [
        "lr_rf_parameters = pd.DataFrame(columns = ['acc', 'prec', 'solver', 'threshold', 'criterion', 'n_est', 'max_depth'])\n",
        "\n",
        "iteration = 1\n",
        "\n",
        "for n in range(0, 3):\n",
        "\n",
        "    lr_model = LogisticRegression(\n",
        "        penalty = 'l2',\n",
        "        C = 0.01,\n",
        "        solver = 'newton-cg',\n",
        "        warm_start = True,\n",
        "        n_jobs = -1,\n",
        "        random_state = 30,\n",
        "        multi_class = 'ovr'\n",
        "    )\n",
        "\n",
        "    select_lr = SelectFromModel(\n",
        "        lr_model,\n",
        "        threshold = 'median'\n",
        "    )\n",
        "\n",
        "    select_x_train = select_lr.fit_transform(x_train[:10000], y_train[:10000])\n",
        "    select_x_val = select_lr.transform(x_val)\n",
        "\n",
        "    lr_rf_model = RandomForestClassifier(\n",
        "              criterion = criterion[n]\n",
        "          )\n",
        "\n",
        "    lr_rf_model_cv = cross_val_predict(lr_rf_model, select_x_train, y_train[:10000], cv = 3, n_jobs = -1)\n",
        "    model_acc = accuracy_score(y_train[:10000], lr_rf_model_cv)\n",
        "    model_prec = precision_score(y_train[:10000], lr_rf_model_cv, average = 'macro')\n",
        "\n",
        "    lr_rf_parameters = lr_rf_parameters.append({'acc' : model_acc, \n",
        "                                                  'prec' : model_prec, \n",
        "                                                  'criterion' : criterion[n], }\n",
        "                                                  , ignore_index = True)\n",
        "    print(model_acc, model_prec, iteration)\n",
        "\n",
        "    iteration += 1\n",
        "\n",
        "print(lr_rf_parameters)"
      ],
      "metadata": {
        "colab": {
          "base_uri": "https://localhost:8080/"
        },
        "id": "iAyGNiYlwKe1",
        "outputId": "f2dcb868-ff03-45eb-c677-b45fee7c9c20"
      },
      "execution_count": null,
      "outputs": [
        {
          "output_type": "stream",
          "name": "stdout",
          "text": [
            "0.5972 0.6007428797781876 1\n",
            "0.6007 0.6048653892709661 2\n",
            "0.5993 0.602580530039803 3\n",
            "      acc      prec solver threshold criterion n_est max_depth\n",
            "0  0.5972  0.600743    NaN       NaN      gini   NaN       NaN\n",
            "1  0.6007  0.604865    NaN       NaN   entropy   NaN       NaN\n",
            "2  0.5993  0.602581    NaN       NaN  log_loss   NaN       NaN\n"
          ]
        }
      ]
    },
    {
      "cell_type": "code",
      "source": [
        "lr_rf_parameters = pd.DataFrame(columns = ['acc', 'prec', 'solver', 'threshold', 'criterion', 'n_est', 'max_depth'])\n",
        "\n",
        "iteration = 1\n",
        "\n",
        "for n in range(0, 3):\n",
        "\n",
        "    lr_rf_model = RandomForestClassifier(\n",
        "              criterion = 'entropy',\n",
        "              max_depth = max_depth[n]\n",
        "          )\n",
        "\n",
        "    lr_rf_model_cv = cross_val_predict(lr_rf_model, select_x_train, y_train[:10000], cv = 3, n_jobs = -1)\n",
        "    model_acc = accuracy_score(y_train[:10000], lr_rf_model_cv)\n",
        "    model_prec = precision_score(y_train[:10000], lr_rf_model_cv, average = 'macro')\n",
        "\n",
        "    lr_rf_parameters = lr_rf_parameters.append({'acc' : model_acc, \n",
        "                                                  'prec' : model_prec, \n",
        "                                                  'max_depth' : max_depth[n], }\n",
        "                                                  , ignore_index = True)\n",
        "    print(model_acc, model_prec, iteration)\n",
        "\n",
        "    iteration += 1\n",
        "\n",
        "print(lr_rf_parameters)"
      ],
      "metadata": {
        "colab": {
          "base_uri": "https://localhost:8080/"
        },
        "id": "EuIdThHqxPMl",
        "outputId": "b519db22-adc9-4fab-ea65-aacec866a7fe"
      },
      "execution_count": null,
      "outputs": [
        {
          "output_type": "stream",
          "name": "stdout",
          "text": [
            "0.3646 0.3734989162079837 1\n",
            "0.4843 0.48959295109159356 2\n",
            "0.6023 0.6052623376853021 3\n",
            "      acc      prec solver threshold criterion n_est  max_depth\n",
            "0  0.3646  0.373499    NaN       NaN       NaN   NaN        2.0\n",
            "1  0.4843  0.489593    NaN       NaN       NaN   NaN        5.0\n",
            "2  0.6023  0.605262    NaN       NaN       NaN   NaN        NaN\n"
          ]
        }
      ]
    },
    {
      "cell_type": "code",
      "source": [
        "lr_rf_parameters = pd.DataFrame(columns = ['acc', 'prec', 'solver', 'threshold', 'criterion', 'n_estimators', 'max_depth'])\n",
        "\n",
        "iteration = 1\n",
        "\n",
        "for n in range(0, 4):\n",
        "\n",
        "    select_x_train = select_lr.fit_transform(x_train, y_train)\n",
        "    select_x_val = select_lr.transform(x_val)\n",
        "\n",
        "    lr_rf_model = RandomForestClassifier(\n",
        "              criterion = 'entropy',\n",
        "              max_depth = None,\n",
        "              n_estimators = n_estimators[n]\n",
        "          )\n",
        "\n",
        "    lr_rf_model_cv = cross_val_predict(lr_rf_model, select_x_train, y_train, cv = 3, n_jobs = -1)\n",
        "    model_acc = accuracy_score(y_train, lr_rf_model_cv)\n",
        "    model_prec = precision_score(y_train, lr_rf_model_cv, average = 'macro')\n",
        "\n",
        "    lr_rf_parameters = lr_rf_parameters.append({'acc' : model_acc, \n",
        "                                                  'prec' : model_prec, \n",
        "                                                  'n_estimators' : n_estimators[n], }\n",
        "                                                  , ignore_index = True)\n",
        "    print(model_acc, model_prec, iteration)\n",
        "\n",
        "    iteration += 1\n",
        "\n",
        "print(lr_rf_parameters)"
      ],
      "metadata": {
        "colab": {
          "base_uri": "https://localhost:8080/"
        },
        "id": "IAC_i_X7xsmW",
        "outputId": "e6a46bcf-e953-4ddf-e7d4-174c8d63f963"
      },
      "execution_count": null,
      "outputs": [
        {
          "output_type": "stream",
          "name": "stdout",
          "text": [
            "0.6724456856842335 0.6747530250763379 1\n",
            "0.6863733633165282 0.68879055137848 2\n",
            "0.6878604330637264 0.6900393448209204 3\n",
            "0.6880055130390628 0.6902929337534414 4\n"
          ]
        }
      ]
    },
    {
      "cell_type": "markdown",
      "source": [
        "See how model does if we add a 99% variance PCA before feature selection"
      ],
      "metadata": {
        "id": "rLbPs_XVLq4_"
      }
    },
    {
      "cell_type": "code",
      "source": [
        "lr_model = LogisticRegression(\n",
        "    penalty = 'l2',\n",
        "    C = 0.01,\n",
        "    solver = 'newton-cg',\n",
        "    warm_start = True,\n",
        "    n_jobs = -1,\n",
        "    random_state = 30,\n",
        "    multi_class = 'ovr'\n",
        ")\n",
        "\n",
        "select_lr = SelectFromModel(\n",
        "    lr_model,\n",
        "    threshold = 'median'\n",
        ")\n",
        "\n",
        "select_x_train = select_lr.fit_transform(x_train_pca, y_train)\n",
        "select_x_val = select_lr.transform(x_val_pca)\n",
        "\n",
        "lr_rf_model = RandomForestClassifier(\n",
        "          criterion = 'entropy',\n",
        "          max_depth = None,\n",
        "          n_estimators = 1000\n",
        "      )\n",
        "\n",
        "lr_rf_model_cv = cross_val_predict(lr_rf_model, select_x_train, y_train, cv = 3, n_jobs = -1)\n",
        "model_acc = accuracy_score(y_train, lr_rf_model_cv)\n",
        "model_prec = precision_score(y_train, lr_rf_model_cv, average = 'macro')\n"
      ],
      "metadata": {
        "id": "3HFKNQXq9Xx0"
      },
      "execution_count": null,
      "outputs": []
    },
    {
      "cell_type": "code",
      "source": [
        "print(model_acc, model_prec)"
      ],
      "metadata": {
        "colab": {
          "base_uri": "https://localhost:8080/"
        },
        "id": "rKx2wkwrPn9z",
        "outputId": "26738657-f8e9-4fef-8a3e-e90f2ac4b6ff"
      },
      "execution_count": null,
      "outputs": [
        {
          "output_type": "stream",
          "name": "stdout",
          "text": [
            "0.5881904900076167 0.5888179402692453\n"
          ]
        }
      ]
    },
    {
      "cell_type": "markdown",
      "source": [
        "So the PCA before LR feature selection doesn't improve the model"
      ],
      "metadata": {
        "id": "-LFHIx-nPwiP"
      }
    },
    {
      "cell_type": "markdown",
      "metadata": {
        "id": "bAti0QKqfNJF"
      },
      "source": [
        "**Make top Model**"
      ]
    },
    {
      "cell_type": "code",
      "execution_count": null,
      "metadata": {
        "id": "gsxY2TfgE75Z"
      },
      "outputs": [],
      "source": [
        "lr_model_final = LogisticRegression(\n",
        "    penalty = 'l2',\n",
        "    C = 0.01,\n",
        "    solver = 'newton-cg',\n",
        "    warm_start = True,\n",
        "    n_jobs = -1,\n",
        "    random_state = 30,\n",
        "    multi_class = 'ovr'\n",
        ")\n",
        "\n",
        "select_lr_final = SelectFromModel(\n",
        "    lr_model_final,\n",
        "    threshold = 'median'\n",
        ")\n",
        "\n",
        "\n",
        "sel_x_train_final = select_lr_final.fit_transform(x_train, y_train)\n",
        "sel_x_test_final = select_lr_final.transform(x_test)\n",
        "\n",
        "lr_rf_model_final = RandomForestClassifier(\n",
        "          criterion = 'entropy',\n",
        "          max_depth = None,\n",
        "          n_estimators = 2000,\n",
        "          n_jobs = -1,\n",
        "          random_state = 35\n",
        "      )"
      ]
    },
    {
      "cell_type": "markdown",
      "metadata": {
        "id": "93pozTXi1uDp"
      },
      "source": [
        "Train and test LR_RF model"
      ]
    },
    {
      "cell_type": "code",
      "execution_count": null,
      "metadata": {
        "colab": {
          "base_uri": "https://localhost:8080/",
          "height": 92
        },
        "id": "VW-lTyB51leP",
        "outputId": "33a83a66-5e6f-4634-e69b-6580df48a311"
      },
      "outputs": [
        {
          "output_type": "execute_result",
          "data": {
            "text/plain": [
              "RandomForestClassifier(criterion='entropy', n_estimators=2000, n_jobs=-1,\n",
              "                       random_state=35)"
            ],
            "text/html": [
              "<style>#sk-container-id-1 {color: black;background-color: white;}#sk-container-id-1 pre{padding: 0;}#sk-container-id-1 div.sk-toggleable {background-color: white;}#sk-container-id-1 label.sk-toggleable__label {cursor: pointer;display: block;width: 100%;margin-bottom: 0;padding: 0.3em;box-sizing: border-box;text-align: center;}#sk-container-id-1 label.sk-toggleable__label-arrow:before {content: \"▸\";float: left;margin-right: 0.25em;color: #696969;}#sk-container-id-1 label.sk-toggleable__label-arrow:hover:before {color: black;}#sk-container-id-1 div.sk-estimator:hover label.sk-toggleable__label-arrow:before {color: black;}#sk-container-id-1 div.sk-toggleable__content {max-height: 0;max-width: 0;overflow: hidden;text-align: left;background-color: #f0f8ff;}#sk-container-id-1 div.sk-toggleable__content pre {margin: 0.2em;color: black;border-radius: 0.25em;background-color: #f0f8ff;}#sk-container-id-1 input.sk-toggleable__control:checked~div.sk-toggleable__content {max-height: 200px;max-width: 100%;overflow: auto;}#sk-container-id-1 input.sk-toggleable__control:checked~label.sk-toggleable__label-arrow:before {content: \"▾\";}#sk-container-id-1 div.sk-estimator input.sk-toggleable__control:checked~label.sk-toggleable__label {background-color: #d4ebff;}#sk-container-id-1 div.sk-label input.sk-toggleable__control:checked~label.sk-toggleable__label {background-color: #d4ebff;}#sk-container-id-1 input.sk-hidden--visually {border: 0;clip: rect(1px 1px 1px 1px);clip: rect(1px, 1px, 1px, 1px);height: 1px;margin: -1px;overflow: hidden;padding: 0;position: absolute;width: 1px;}#sk-container-id-1 div.sk-estimator {font-family: monospace;background-color: #f0f8ff;border: 1px dotted black;border-radius: 0.25em;box-sizing: border-box;margin-bottom: 0.5em;}#sk-container-id-1 div.sk-estimator:hover {background-color: #d4ebff;}#sk-container-id-1 div.sk-parallel-item::after {content: \"\";width: 100%;border-bottom: 1px solid gray;flex-grow: 1;}#sk-container-id-1 div.sk-label:hover label.sk-toggleable__label {background-color: #d4ebff;}#sk-container-id-1 div.sk-serial::before {content: \"\";position: absolute;border-left: 1px solid gray;box-sizing: border-box;top: 0;bottom: 0;left: 50%;z-index: 0;}#sk-container-id-1 div.sk-serial {display: flex;flex-direction: column;align-items: center;background-color: white;padding-right: 0.2em;padding-left: 0.2em;position: relative;}#sk-container-id-1 div.sk-item {position: relative;z-index: 1;}#sk-container-id-1 div.sk-parallel {display: flex;align-items: stretch;justify-content: center;background-color: white;position: relative;}#sk-container-id-1 div.sk-item::before, #sk-container-id-1 div.sk-parallel-item::before {content: \"\";position: absolute;border-left: 1px solid gray;box-sizing: border-box;top: 0;bottom: 0;left: 50%;z-index: -1;}#sk-container-id-1 div.sk-parallel-item {display: flex;flex-direction: column;z-index: 1;position: relative;background-color: white;}#sk-container-id-1 div.sk-parallel-item:first-child::after {align-self: flex-end;width: 50%;}#sk-container-id-1 div.sk-parallel-item:last-child::after {align-self: flex-start;width: 50%;}#sk-container-id-1 div.sk-parallel-item:only-child::after {width: 0;}#sk-container-id-1 div.sk-dashed-wrapped {border: 1px dashed gray;margin: 0 0.4em 0.5em 0.4em;box-sizing: border-box;padding-bottom: 0.4em;background-color: white;}#sk-container-id-1 div.sk-label label {font-family: monospace;font-weight: bold;display: inline-block;line-height: 1.2em;}#sk-container-id-1 div.sk-label-container {text-align: center;}#sk-container-id-1 div.sk-container {/* jupyter's `normalize.less` sets `[hidden] { display: none; }` but bootstrap.min.css set `[hidden] { display: none !important; }` so we also need the `!important` here to be able to override the default hidden behavior on the sphinx rendered scikit-learn.org. See: https://github.com/scikit-learn/scikit-learn/issues/21755 */display: inline-block !important;position: relative;}#sk-container-id-1 div.sk-text-repr-fallback {display: none;}</style><div id=\"sk-container-id-1\" class=\"sk-top-container\"><div class=\"sk-text-repr-fallback\"><pre>RandomForestClassifier(criterion=&#x27;entropy&#x27;, n_estimators=2000, n_jobs=-1,\n",
              "                       random_state=35)</pre><b>In a Jupyter environment, please rerun this cell to show the HTML representation or trust the notebook. <br />On GitHub, the HTML representation is unable to render, please try loading this page with nbviewer.org.</b></div><div class=\"sk-container\" hidden><div class=\"sk-item\"><div class=\"sk-estimator sk-toggleable\"><input class=\"sk-toggleable__control sk-hidden--visually\" id=\"sk-estimator-id-1\" type=\"checkbox\" checked><label for=\"sk-estimator-id-1\" class=\"sk-toggleable__label sk-toggleable__label-arrow\">RandomForestClassifier</label><div class=\"sk-toggleable__content\"><pre>RandomForestClassifier(criterion=&#x27;entropy&#x27;, n_estimators=2000, n_jobs=-1,\n",
              "                       random_state=35)</pre></div></div></div></div></div>"
            ]
          },
          "metadata": {},
          "execution_count": 46
        }
      ],
      "source": [
        "lr_rf_model_final.fit(sel_x_train_final, y_train)\n"
      ]
    },
    {
      "cell_type": "code",
      "source": [
        "rf_model1_pred = lr_rf_model_final.predict(sel_x_test_final)"
      ],
      "metadata": {
        "id": "gCYu1aR3BcqR"
      },
      "execution_count": null,
      "outputs": []
    },
    {
      "cell_type": "markdown",
      "metadata": {
        "id": "f_rwp_h5fQ9l"
      },
      "source": [
        "Error Analysis"
      ]
    },
    {
      "cell_type": "code",
      "execution_count": null,
      "metadata": {
        "id": "mJfEz0egfSda",
        "colab": {
          "base_uri": "https://localhost:8080/",
          "height": 444
        },
        "outputId": "d5ca958b-d0ed-4a92-b08f-7cff430a2a54"
      },
      "outputs": [
        {
          "output_type": "display_data",
          "data": {
            "text/plain": [
              "<Figure size 1800x1800 with 0 Axes>"
            ]
          },
          "metadata": {}
        },
        {
          "output_type": "display_data",
          "data": {
            "text/plain": [
              "<Figure size 480x480 with 2 Axes>"
            ],
            "image/png": "[encoded data removed]"
          },
          "metadata": {}
        }
      ],
      "source": [
        "from sklearn.metrics import confusion_matrix\n",
        "\n",
        "CM_lr_rf = confusion_matrix(y_test, rf_model1_pred)\n",
        "\n",
        "CM_lr_rf = CM_lr_rf.astype('float') / CM_lr_rf.sum(axis=1)[:, np.newaxis]\n",
        "\n",
        "np.fill_diagonal(CM_lr_rf,0)\n",
        "plt.figure(1, figsize = (18,18))\n",
        "plt.matshow(CM_lr_rf, cmap=plt.cm.coolwarm)\n",
        "plt.title('Confusion Matrix for LR + RF')\n",
        "plt.tight_layout\n",
        "plt.colorbar()\n",
        "plt.show()\n",
        "                          "
      ]
    },
    {
      "cell_type": "code",
      "source": [
        "from sklearn.metrics import precision_score, recall_score, f1_score, precision_recall_curve"
      ],
      "metadata": {
        "id": "WoFZa-fsBBvp"
      },
      "execution_count": null,
      "outputs": []
    },
    {
      "cell_type": "code",
      "source": [
        "acc = accuracy_score(y_test, rf_model1_pred)\n",
        "pre = precision_score(y_test, rf_model1_pred, average= 'macro')\n",
        "rec = recall_score(y_test, rf_model1_pred, average='macro')\n",
        "f1 = f1_score(y_test, rf_model1_pred, average= 'macro')\n",
        "\n",
        "print(acc, pre, rec, f1)"
      ],
      "metadata": {
        "colab": {
          "base_uri": "https://localhost:8080/"
        },
        "id": "NmQNRokPBCcN",
        "outputId": "4c664ff3-3aaf-4a61-b3cf-e89d1ea1e87a"
      },
      "execution_count": null,
      "outputs": [
        {
          "output_type": "stream",
          "name": "stdout",
          "text": [
            "0.717 0.7169623406746267 0.7170000000000001 0.7169675861442025\n"
          ]
        }
      ]
    },
    {
      "cell_type": "code",
      "source": [
        "rf_model1_proba = lr_rf_model_final.predict_proba(sel_x_test_final)"
      ],
      "metadata": {
        "id": "FBZq5Y94NgvR"
      },
      "execution_count": null,
      "outputs": []
    },
    {
      "cell_type": "code",
      "source": [
        "from sklearn.preprocessing import label_binarize\n",
        "from sklearn.metrics import roc_curve, roc_auc_score, auc\n",
        "\n",
        "Y_binary = label_binarize(y_test, classes=[0,1,2,3])\n",
        "\n",
        "plt.figure()\n",
        "plt.clf()\n",
        "plt.plot([0,1], [0,1], 'k--')\n",
        "plt.axis([0,1,0,1])\n",
        "plt.xlabel('FPR')\n",
        "plt.ylabel('TPR')\n",
        "plt.title('Avg ROC')\n",
        "\n",
        "Fpr_mean = np.linspace(0,1,100)\n",
        "\n",
        "\n",
        "classifier = rf_model1_proba\n",
        "labelval = 'LR RF'\n",
        "color = 'b'\n",
        "\n",
        "\n",
        "tpr_mean = []\n",
        "\n",
        "for j in range(0, np.size(Y_binary, 1)):\n",
        "  fpr, tpr, T = roc_curve(Y_binary[:,j], classifier[:,j])\n",
        "  tpr_mean.append(np.interp(Fpr_mean, fpr, tpr))\n",
        "Tpr_mean = np.mean(tpr_mean, axis=0)\n",
        "mean_auc = auc(Fpr_mean, Tpr_mean)\n",
        "plt.plot(Fpr_mean, Tpr_mean, color=color, label= r'%s (AUC = %0.2f)' % (labelval,mean_auc))\n",
        "\n",
        "plt.legend()\n",
        "plt.show()"
      ],
      "metadata": {
        "colab": {
          "base_uri": "https://localhost:8080/",
          "height": 472
        },
        "id": "lAuYpXDrNqyq",
        "outputId": "4b5eaa1c-0483-4933-b506-96eb5edf15bc"
      },
      "execution_count": null,
      "outputs": [
        {
          "output_type": "display_data",
          "data": {
            "text/plain": [
              "<Figure size 640x480 with 1 Axes>"
            ],
            "image/png": "[encoded data removed]"
          },
          "metadata": {}
        }
      ]
    },
    {
      "cell_type": "markdown",
      "source": [
        "Let's see how this model performs on the entire dataset, using class weights instead of cutting the dataset"
      ],
      "metadata": {
        "id": "loSNqy18259L"
      }
    },
    {
      "cell_type": "code",
      "source": [
        "x_train1 = train_images.reshape(97477, -1)\n",
        "y_train1 = train_labels.reshape(97477, -1)\n",
        "\n",
        "x_test1 = test_images.reshape(1000, -1)\n",
        "y_test1 = test_labels.reshape(1000, -1)\n",
        "\n",
        "x_val1 = val_images.reshape(10832, -1)\n",
        "y_val1 = val_labels.reshape(10832, -1)"
      ],
      "metadata": {
        "id": "6zW1ClfY25ce"
      },
      "execution_count": null,
      "outputs": []
    },
    {
      "cell_type": "code",
      "source": [
        "x_train1 = (255 - x_train1).astype(np.int64)\n",
        "x_test1 = (255 - x_test1).astype(np.int64)\n",
        "x_val1 = (255 - x_val1).astype(np.int64)\n"
      ],
      "metadata": {
        "id": "ExpD9iDF3sVv"
      },
      "execution_count": null,
      "outputs": []
    },
    {
      "cell_type": "code",
      "source": [
        "x_train1 = x_train1 / 255.\n",
        "x_test1 = x_test1 / 255.\n",
        "x_val1 = x_val1 / 255."
      ],
      "metadata": {
        "id": "5BqCZDHo3mUw"
      },
      "execution_count": null,
      "outputs": []
    },
    {
      "cell_type": "markdown",
      "source": [
        "The rest of the code was run in another notebook to save time."
      ],
      "metadata": {
        "id": "IRu66U_ncE1T"
      }
    },
    {
      "cell_type": "code",
      "source": [
        "sel_x_train_final_weight = select_lr_final.fit_transform(x_train1, y_train1)\n",
        "sel_x_test_final_weight = select_lr_final.transform(x_test1)\n",
        "\n",
        "lr_rf_model_final_weight = RandomForestClassifier(\n",
        "          criterion = 'entropy',\n",
        "          max_depth = None,\n",
        "          n_estimators = 1000,\n",
        "          n_jobs = -1,\n",
        "          random_state = 35,\n",
        "          class_weight = 'balanced'\n",
        "      )"
      ],
      "metadata": {
        "id": "KuOQhFaD6qlh"
      },
      "execution_count": null,
      "outputs": []
    },
    {
      "cell_type": "code",
      "source": [
        "lr_rf_model_final_weight.fit(sel_x_train_final_weight, y_train1)\n",
        "rf_model1_pred_weight = lr_rf_model_final_weight.predict(sel_x_test_final_weight)"
      ],
      "metadata": {
        "id": "4M5ojlf_7C-D"
      },
      "execution_count": null,
      "outputs": []
    },
    {
      "cell_type": "markdown",
      "source": [
        "Error of weighted data"
      ],
      "metadata": {
        "id": "0kXHAgIU7XSr"
      }
    },
    {
      "cell_type": "code",
      "source": [
        "CM_lr_rf_weight = confusion_matrix(y_test1, rf_model1_pred_weight)\n",
        "\n",
        "CM_lr_rf_weight = CM_lr_rf_weight.astype('float') / CM_lr_rf_weight.sum(axis=1)[:, np.newaxis]\n",
        "\n",
        "np.fill_diagonal(CM_lr_rf_weight,0)\n",
        "plt.figure(1, figsize = (18,18))\n",
        "plt.matshow(CM_lr_rf_weight, cmap=plt.cm.coolwarm)\n",
        "plt.title('Confusion Matrix for LR + RF: Weighted Data')\n",
        "plt.tight_layout\n",
        "plt.colorbar()\n",
        "plt.show()\n",
        "                          "
      ],
      "metadata": {
        "id": "35vSC0sk7MGL"
      },
      "execution_count": null,
      "outputs": []
    },
    {
      "cell_type": "markdown",
      "source": [
        "Performance of weighted data"
      ],
      "metadata": {
        "id": "M4iKmTCL7ZT8"
      }
    },
    {
      "cell_type": "code",
      "source": [
        "acc1 = accuracy_score(y_test1, rf_model1_pred_weight)\n",
        "pre1 = precision_score(y_test1, rf_model1_pred_weight, average= 'macro')\n",
        "rec1 = recall_score(y_test1, rf_model1_pred_weight, average='macro')\n",
        "f11 = f1_score(y_test1, rf_model1_pred_weight, average= 'macro')\n",
        "\n",
        "print(acc1, pre1, rec1, f11)"
      ],
      "metadata": {
        "id": "AEf_k7KO7WX-"
      },
      "execution_count": null,
      "outputs": []
    },
    {
      "cell_type": "code",
      "source": [
        "rf_model1_proba_weight = lr_rf_model_final_weight.predict_proba(sel_x_test_final_weight)"
      ],
      "metadata": {
        "id": "ttY0vakm7lWv"
      },
      "execution_count": null,
      "outputs": []
    },
    {
      "cell_type": "code",
      "source": [
        "Y_binary1 = label_binarize(y_test1, classes=[0,1,2,3])\n",
        "\n",
        "plt.figure()\n",
        "plt.clf()\n",
        "plt.plot([0,1], [0,1], 'k--')\n",
        "plt.axis([0,1,0,1])\n",
        "plt.xlabel('FPR')\n",
        "plt.ylabel('TPR')\n",
        "plt.title('Avg ROC')\n",
        "\n",
        "Fpr_mean = np.linspace(0,1,100)\n",
        "\n",
        "\n",
        "classifier1 = rf_model1_proba_weight\n",
        "labelval = 'LR RF'\n",
        "color = 'b'\n",
        "\n",
        "\n",
        "tpr_mean = []\n",
        "\n",
        "for j in range(0, np.size(Y_binary1, 1)):\n",
        "  fpr, tpr, T = roc_curve(Y_binary1[:,j], classifier1[:,j])\n",
        "  tpr_mean.append(np.interp(Fpr_mean, fpr, tpr))\n",
        "Tpr_mean = np.mean(tpr_mean, axis=0)\n",
        "mean_auc = auc(Fpr_mean, Tpr_mean)\n",
        "plt.plot(Fpr_mean, Tpr_mean, color=color, label= r'%s (AUC = %0.2f)' % (labelval,mean_auc))\n",
        "\n",
        "plt.legend()\n",
        "plt.show()"
      ],
      "metadata": {
        "id": "FIC-ZC_e7pnX"
      },
      "execution_count": null,
      "outputs": []
    },
    {
      "cell_type": "markdown",
      "source": [
        "Ultimately, using the uniform dataset performs better than using the balanced parameter on the total training dataset."
      ],
      "metadata": {
        "id": "iG5xFSAOVsJl"
      }
    }
  ],
  "metadata": {
    "accelerator": "GPU",
    "colab": {
      "provenance": []
    },
    "gpuClass": "premium",
    "kernelspec": {
      "display_name": "Python 3",
      "name": "python3"
    },
    "language_info": {
      "name": "python"
    }
  },
  "nbformat": 4,
  "nbformat_minor": 0
}