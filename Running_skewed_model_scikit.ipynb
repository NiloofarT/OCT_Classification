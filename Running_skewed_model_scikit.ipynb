{
  "nbformat": 4,
  "nbformat_minor": 0,
  "metadata": {
    "colab": {
      "provenance": []
    },
    "kernelspec": {
      "name": "python3",
      "display_name": "Python 3"
    },
    "language_info": {
      "name": "python"
    }
  },
  "cells": [
    {
      "cell_type": "code",
      "execution_count": null,
      "metadata": {
        "id": "myZjbbTP_sKi"
      },
      "outputs": [],
      "source": [
        "import numpy as np\n",
        "import pandas as pd\n",
        "import matplotlib\n",
        "import matplotlib.pyplot as plt\n",
        "from matplotlib import cm\n",
        "from imblearn.datasets import make_imbalance"
      ]
    },
    {
      "cell_type": "code",
      "source": [
        "import warnings\n",
        "from sklearn.exceptions import DataConversionWarning\n",
        "warnings.filterwarnings('ignore')"
      ],
      "metadata": {
        "id": "QzJ3R6Cb_wBJ"
      },
      "execution_count": null,
      "outputs": []
    },
    {
      "cell_type": "code",
      "source": [
        "list_files = np.load('octmnist.npz')\n",
        "for name in list_files:\n",
        "  print(name)\n",
        "  print(np.shape(list_files[name]))"
      ],
      "metadata": {
        "colab": {
          "base_uri": "https://localhost:8080/"
        },
        "id": "Jini8FhV_xA0",
        "outputId": "4579a1c6-0e42-4590-8bf3-a788bb2aad84"
      },
      "execution_count": null,
      "outputs": [
        {
          "output_type": "stream",
          "name": "stdout",
          "text": [
            "train_images\n",
            "(97477, 28, 28)\n",
            "val_images\n",
            "(10832, 28, 28)\n",
            "test_images\n",
            "(1000, 28, 28)\n",
            "train_labels\n",
            "(97477, 1)\n",
            "val_labels\n",
            "(10832, 1)\n",
            "test_labels\n",
            "(1000, 1)\n"
          ]
        }
      ]
    },
    {
      "cell_type": "code",
      "source": [
        "train_images = list_files['train_images']\n",
        "train_labels = list_files['train_labels']\n",
        "\n",
        "test_images = list_files['test_images']\n",
        "test_labels = list_files['test_labels']\n",
        "\n",
        "val_images = list_files['val_images']\n",
        "val_labels = list_files['val_labels']"
      ],
      "metadata": {
        "id": "Xu7FmMsj_0At"
      },
      "execution_count": null,
      "outputs": []
    },
    {
      "cell_type": "code",
      "source": [
        "x_train1 = train_images.reshape(97477, -1)\n",
        "y_train1 = train_labels.reshape(97477, -1)\n",
        "\n",
        "x_test1 = test_images.reshape(1000, -1)\n",
        "y_test1 = test_labels.reshape(1000, -1)\n",
        "\n",
        "x_val1 = val_images.reshape(10832, -1)\n",
        "y_val1 = val_labels.reshape(10832, -1)"
      ],
      "metadata": {
        "id": "wzzDZAAk_2zi"
      },
      "execution_count": null,
      "outputs": []
    },
    {
      "cell_type": "code",
      "source": [
        "x_train1 = (255 - x_train1).astype(np.int64)\n",
        "x_test1 = (255 - x_test1).astype(np.int64)\n",
        "x_val1 = (255 - x_val1).astype(np.int64)\n"
      ],
      "metadata": {
        "id": "BkFOLleB_32B"
      },
      "execution_count": null,
      "outputs": []
    },
    {
      "cell_type": "code",
      "source": [
        "x_train1 = x_train1 / 255.\n",
        "x_test1 = x_test1 / 255.\n",
        "x_val1 = x_val1 / 255."
      ],
      "metadata": {
        "id": "_SsY2nzy_5Q8"
      },
      "execution_count": null,
      "outputs": []
    },
    {
      "cell_type": "code",
      "source": [
        "from sklearn.ensemble import AdaBoostClassifier, RandomForestClassifier\n",
        "from sklearn.tree import DecisionTreeClassifier\n",
        "from sklearn.neighbors import KNeighborsClassifier\n",
        "from sklearn.svm import LinearSVC\n",
        "from sklearn.linear_model import LogisticRegression\n",
        "from sklearn.naive_bayes import MultinomialNB\n",
        "from sklearn.feature_selection import SelectFromModel\n",
        "from sklearn.model_selection import cross_val_predict\n",
        "from sklearn.metrics import accuracy_score, precision_score\n",
        "from sklearn.pipeline import Pipeline\n",
        "from sklearn.decomposition import PCA\n",
        "from sklearn.metrics import confusion_matrix\n",
        "from sklearn.metrics import precision_score, recall_score, f1_score, precision_recall_curve"
      ],
      "metadata": {
        "id": "PNeNmCCfAKfy"
      },
      "execution_count": null,
      "outputs": []
    },
    {
      "cell_type": "code",
      "source": [
        "from sklearn.preprocessing import label_binarize\n",
        "from sklearn.metrics import roc_curve, roc_auc_score, auc"
      ],
      "metadata": {
        "id": "JnN4EdbIAUuw"
      },
      "execution_count": null,
      "outputs": []
    },
    {
      "cell_type": "code",
      "source": [
        "lr_model_final = LogisticRegression(\n",
        "    penalty = 'l2',\n",
        "    C = 0.01,\n",
        "    solver = 'newton-cg',\n",
        "    warm_start = True,\n",
        "    n_jobs = -1,\n",
        "    random_state = 30,\n",
        "    multi_class = 'ovr'\n",
        ")\n",
        "\n",
        "select_lr_final = SelectFromModel(\n",
        "    lr_model_final,\n",
        "    threshold = 'median'\n",
        ")\n",
        "\n"
      ],
      "metadata": {
        "id": "rzmFmhhbAHt2"
      },
      "execution_count": null,
      "outputs": []
    },
    {
      "cell_type": "code",
      "source": [
        "sel_x_train_final_weight = select_lr_final.fit_transform(x_train1, y_train1)\n",
        "sel_x_test_final_weight = select_lr_final.transform(x_test1)\n"
      ],
      "metadata": {
        "id": "fnYeTajq_6oT"
      },
      "execution_count": null,
      "outputs": []
    },
    {
      "cell_type": "code",
      "source": [
        "\n",
        "lr_rf_model_final_weight = RandomForestClassifier(\n",
        "          criterion = 'entropy',\n",
        "          max_depth = None,\n",
        "          n_estimators = 1000,\n",
        "          n_jobs = -1,\n",
        "          random_state = 35,\n",
        "          class_weight = 'balanced'\n",
        "      )"
      ],
      "metadata": {
        "id": "7l7l-O06BspZ"
      },
      "execution_count": null,
      "outputs": []
    },
    {
      "cell_type": "code",
      "source": [
        "lr_rf_model_final_weight.fit(sel_x_train_final_weight, y_train1)\n",
        "rf_model1_pred_weight = lr_rf_model_final_weight.predict(sel_x_test_final_weight)"
      ],
      "metadata": {
        "id": "GDLZ0e9J_8x1"
      },
      "execution_count": null,
      "outputs": []
    },
    {
      "cell_type": "code",
      "source": [
        "CM_lr_rf_weight = confusion_matrix(y_test1, rf_model1_pred_weight)\n",
        "\n",
        "CM_lr_rf_weight = CM_lr_rf_weight.astype('float') / CM_lr_rf_weight.sum(axis=1)[:, np.newaxis]\n",
        "\n",
        "np.fill_diagonal(CM_lr_rf_weight,0)\n",
        "plt.figure(1, figsize = (18,18))\n",
        "plt.matshow(CM_lr_rf_weight, cmap=plt.cm.coolwarm)\n",
        "plt.title('Confusion Matrix for LR + RF: Weighted Data')\n",
        "plt.tight_layout\n",
        "plt.colorbar()\n",
        "plt.show()\n",
        "                          "
      ],
      "metadata": {
        "colab": {
          "base_uri": "https://localhost:8080/",
          "height": 444
        },
        "id": "icagYQij_9na",
        "outputId": "ce3e963a-f557-40d2-eb0d-d76f48fd31bb"
      },
      "execution_count": null,
      "outputs": [
        {
          "output_type": "display_data",
          "data": {
            "text/plain": [
              "<Figure size 1800x1800 with 0 Axes>"
            ]
          },
          "metadata": {}
        },
        {
          "output_type": "display_data",
          "data": {
            "text/plain": [
              "<Figure size 480x480 with 2 Axes>"
            ],
            "image/png": "[encoded data removed]"
          },
          "metadata": {}
        }
      ]
    },
    {
      "cell_type": "code",
      "source": [
        "acc1 = accuracy_score(y_test1, rf_model1_pred_weight)\n",
        "pre1 = precision_score(y_test1, rf_model1_pred_weight, average= 'macro')\n",
        "rec1 = recall_score(y_test1, rf_model1_pred_weight, average='macro')\n",
        "f11 = f1_score(y_test1, rf_model1_pred_weight, average= 'macro')\n",
        "\n",
        "print(acc1, pre1, rec1, f11)"
      ],
      "metadata": {
        "colab": {
          "base_uri": "https://localhost:8080/"
        },
        "id": "QBKBPW8G__FP",
        "outputId": "1c8bb7c0-bc1a-4fa6-be8e-f0dd8b71ffa3"
      },
      "execution_count": null,
      "outputs": [
        {
          "output_type": "stream",
          "name": "stdout",
          "text": [
            "0.566 0.4920334793568545 0.5660000000000001 0.4840707493349233\n"
          ]
        }
      ]
    },
    {
      "cell_type": "code",
      "source": [
        "rf_model1_proba_weight = lr_rf_model_final_weight.predict_proba(sel_x_test_final_weight)"
      ],
      "metadata": {
        "id": "pe-jtPDXAAJR"
      },
      "execution_count": null,
      "outputs": []
    },
    {
      "cell_type": "code",
      "source": [
        "Y_binary1 = label_binarize(y_test1, classes=[0,1,2,3])\n",
        "\n",
        "plt.figure()\n",
        "plt.clf()\n",
        "plt.plot([0,1], [0,1], 'k--')\n",
        "plt.axis([0,1,0,1])\n",
        "plt.xlabel('FPR')\n",
        "plt.ylabel('TPR')\n",
        "plt.title('Avg ROC')\n",
        "\n",
        "Fpr_mean = np.linspace(0,1,100)\n",
        "\n",
        "\n",
        "classifier1 = rf_model1_proba_weight\n",
        "labelval = 'LR RF'\n",
        "color = 'b'\n",
        "\n",
        "\n",
        "tpr_mean = []\n",
        "\n",
        "for j in range(0, np.size(Y_binary1, 1)):\n",
        "  fpr, tpr, T = roc_curve(Y_binary1[:,j], classifier1[:,j])\n",
        "  tpr_mean.append(np.interp(Fpr_mean, fpr, tpr))\n",
        "Tpr_mean = np.mean(tpr_mean, axis=0)\n",
        "mean_auc = auc(Fpr_mean, Tpr_mean)\n",
        "plt.plot(Fpr_mean, Tpr_mean, color=color, label= r'%s (AUC = %0.2f)' % (labelval,mean_auc))\n",
        "\n",
        "plt.legend()\n",
        "plt.show()"
      ],
      "metadata": {
        "colab": {
          "base_uri": "https://localhost:8080/",
          "height": 472
        },
        "id": "HtgwzZ92AA5H",
        "outputId": "efc43c9a-12b3-46ac-b472-3db51861e86a"
      },
      "execution_count": null,
      "outputs": [
        {
          "output_type": "display_data",
          "data": {
            "text/plain": [
              "<Figure size 640x480 with 1 Axes>"
            ],
            "image/png": "[encoded data removed]"
          },
          "metadata": {}
        }
      ]
    },
    {
      "cell_type": "code",
      "source": [
        "from pylab import *\n",
        "\n",
        "figure()\n",
        "gray()\n",
        "contour()"
      ],
      "metadata": {
        "id": "dkzRegb8GGH_"
      },
      "execution_count": null,
      "outputs": []
    }
  ]
}